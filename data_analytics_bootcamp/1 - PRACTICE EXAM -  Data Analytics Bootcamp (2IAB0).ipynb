{
 "cells": [
  {
   "cell_type": "markdown",
   "metadata": {},
   "source": [
    "# Practice Exam -  Data Analytics Bootcamp (2IAB0)"
   ]
  },
  {
   "cell_type": "markdown",
   "metadata": {},
   "source": [
    "*Saturday 14th of April 2018*"
   ]
  },
  {
   "cell_type": "markdown",
   "metadata": {},
   "source": [
    "## Introduction "
   ]
  },
  {
   "cell_type": "markdown",
   "metadata": {},
   "source": [
    "This practice exam for the course Data Analytics for Engineers (2017/2018) consists of 23 open-ended questions. These questions have been primarily selected based on exam topics students indicated they found most challenging: \n",
    "![dae_topics](../img/self_reported_understanding_dae_topics_small.png)\n",
    "\n",
    "Note that the actual exam will consist of multiple choice questions which cover the material from *all* lectures.  \n",
    "Good luck with your final exam preparations!\n",
    "\n",
    "**Roy.**"
   ]
  },
  {
   "cell_type": "markdown",
   "metadata": {},
   "source": [
    "---"
   ]
  },
  {
   "cell_type": "markdown",
   "metadata": {},
   "source": [
    "## Part 1 - SQL"
   ]
  },
  {
   "cell_type": "markdown",
   "metadata": {},
   "source": [
    "Assume the following relational model for a president database. Formulate the necessary queries to answer the four question below. You don't need any database or Python for that; paper works fine (but I will guarantee you: it is at least if not more challenging!)"
   ]
  },
  {
   "cell_type": "markdown",
   "metadata": {},
   "source": [
    "![relational_model](../img/ER_model_presidents.png)"
   ]
  },
  {
   "cell_type": "markdown",
   "metadata": {},
   "source": [
    "---"
   ]
  },
  {
   "cell_type": "markdown",
   "metadata": {},
   "source": [
    "**1.1: How many children were born in marriages before 1900 and from 1950 till today, where the spouse is in her 30s at her marriage? **"
   ]
  },
  {
   "cell_type": "markdown",
   "metadata": {},
   "source": [
    "So just to be clear: I don't expect a number here but the SQL-query that would give the desired number. As an aid, have a look at some fictitious data below. Note that, `NR_CHILDREN` indicates the number of children at the moment of the marriage."
   ]
  },
  {
   "cell_type": "markdown",
   "metadata": {},
   "source": [
    "| PRES_ID | SPOUSE_NAME | SPOUSE_AGE | NR_CHILDREN | MARRIAGE_YEAR | \n",
    "| :------- | :------- | :------- | :------- | :------- | :------- | \n",
    "| 1 | Adriana Smith | 31 | 2 | 1890 | \n",
    "| 2 | Marjan Skelton | 29 | 0 | 1897 | \n",
    "| 3 | Eva Kortright | 30 | 1 | 1903 | \n",
    "\n"
   ]
  },
  {
   "cell_type": "markdown",
   "metadata": {
    "collapsed": true
   },
   "source": [
    "**1.2: Determine the maximum difference between the youngest died and oldest died president that served more than 4 years. **"
   ]
  },
  {
   "cell_type": "markdown",
   "metadata": {},
   "source": [
    "**1.3 Select the number of marriages in which a child was born on an average of minimal once in 5 years (starting with the year the wedding took place in, up to the year the spouse reached age 45).**"
   ]
  },
  {
   "cell_type": "markdown",
   "metadata": {},
   "source": [
    "**1.4 Determine for each president married more than once his id and the greatest as well as the least number of children born in his marriages (see example below).**"
   ]
  },
  {
   "cell_type": "markdown",
   "metadata": {},
   "source": [
    "| PRES_ID | MAX_CHILDREN | MIN_CHILDREN | \n",
    "| :-----  | :----------- | :----------- |\n",
    "| 10 | 5 | 2| \n",
    "| 13 | 3 | 0 | \n",
    "| 28 | 2 | 1 | "
   ]
  },
  {
   "cell_type": "markdown",
   "metadata": {},
   "source": [
    "---"
   ]
  },
  {
   "cell_type": "markdown",
   "metadata": {},
   "source": [
    "## Part 2 - Hypothesis Testing"
   ]
  },
  {
   "cell_type": "markdown",
   "metadata": {},
   "source": [
    "Say that we want to determine whether men and women have *different* average salaries. Students are asked to write the corresponding null ($H_0$) and alternative hypothesis ($H_a$)."
   ]
  },
  {
   "cell_type": "markdown",
   "metadata": {},
   "source": [
    "**2.1 One of the students formulates the hypotheses as follows. What two critical mistakes did the student make? What should the hypotheses be instead?**   \n",
    "<br/>\n",
    "$H_0$:  $\\bar{X}_{male} = \\bar{X}_{female}$   \n",
    "$H_a$:  $\\bar{X}_{male} > \\bar{X}_{female}$   \n"
   ]
  },
  {
   "cell_type": "markdown",
   "metadata": {},
   "source": [
    "**2.2 After conducting the right hypotheses tests, the student finds a p-value of 0.19 and thus concludes that there is strong evidence that men earn as much as women. Is this statement correct? If so/not, why? (you can assume a significance level of 0.05)**"
   ]
  },
  {
   "cell_type": "markdown",
   "metadata": {},
   "source": [
    "**2.3 What's the effect on the rejection region if we go from a two-sided to a one-sided hypothesis test and the significance level remains the same (e.g. 0.05). What does that imply?**"
   ]
  },
  {
   "cell_type": "markdown",
   "metadata": {},
   "source": [
    "**2.4 Given the hype around data analytics and data scientist being the [sexiest job](https://hbr.org/2012/10/data-scientist-the-sexiest-job-of-the-21st-century) of the 21st century, Glassdoor claims the average salary for data science roles in San Fransisco is [143K USD](https://www.glassdoor.nl/Salarissen/san-francisco-data-scientist-salarissen-SRCH_IL.0,13_IM759_KO14,28.htm?countryRedirect=true). You, a Data Analytics student, suspect this claim and therefore test the following hypotheses:**\n",
    "\n",
    "$H_{0}$:  $\\mu_{salary} = 143000\\ USD$    \n",
    "$H_{a}$:  $\\mu_{salary} < 143000\\ USD$ \n",
    "\n",
    "**Despite the fact that you find a sample mean ($\\bar{X}$) of 142895 USD - very close to the hypothesized mean ($\\mu_{salary}$) - you decide to accept the alternative hypothesis ($H_a$) because of a p-value of 0.004. How can you explain this?**"
   ]
  },
  {
   "cell_type": "markdown",
   "metadata": {},
   "source": [
    "**2.5 In hypotheses testing we distinguish the Z-test and T-test. Explain when to use which one. Which one do you think is more common?**"
   ]
  },
  {
   "cell_type": "markdown",
   "metadata": {},
   "source": [
    "**2.6 What's the effect on the rejection region if the sample size increases for a Z-test and T-test.**"
   ]
  },
  {
   "cell_type": "markdown",
   "metadata": {},
   "source": [
    "---"
   ]
  },
  {
   "cell_type": "markdown",
   "metadata": {},
   "source": [
    "## Part 3 - Type I and II errors"
   ]
  },
  {
   "cell_type": "markdown",
   "metadata": {},
   "source": [
    "Consider a criminal trial. We test the hypotheses:   \n",
    "\n",
    "$H_0$: The defendant did not commit the crime.   \n",
    "$H_a$: The defendant committed the crime.  "
   ]
  },
  {
   "cell_type": "markdown",
   "metadata": {},
   "source": [
    "**3.1 Explain in your own words what the corresponding Type I and II errors are in this context.**"
   ]
  },
  {
   "cell_type": "markdown",
   "metadata": {},
   "source": [
    "**3.2 Given the context which type of error (I or II) do you believe is worse? Why?**"
   ]
  },
  {
   "cell_type": "markdown",
   "metadata": {},
   "source": [
    "**3.3 Assume that the court uses hypothesis testing to form its final verdict. What can we say about the significance level of this test if the court wants to minimize the number of Type I errors?**"
   ]
  },
  {
   "cell_type": "markdown",
   "metadata": {},
   "source": [
    "**3.4 Explain the consequences of choosing a significance level of 0.10 instead of 0.05 in this context. What will be the effect on the number of Type I and II errors?**"
   ]
  },
  {
   "cell_type": "markdown",
   "metadata": {},
   "source": [
    "**3.5 Here you see an empty diagram with 3 axes: **\n",
    "\n",
    "![alpha_beta_power](../img/alpha_beta_power.jpg)\n",
    "- Type I error (horizontal - $\\alpha$)\n",
    "- Type II error (left hand side $\\beta$)\n",
    "- Power (right hand side)  \n",
    "\n",
    "**If you were to draw a line in this diagram how would it look like (in particular: what would the direction be)?**"
   ]
  },
  {
   "cell_type": "markdown",
   "metadata": {},
   "source": [
    "---"
   ]
  },
  {
   "cell_type": "markdown",
   "metadata": {},
   "source": [
    "## Part 4 - Standard Deviation / Confidence Intervals\n",
    "Suppose two professsors (A and B) look into the grades for GA1. Professor A looks at a sample A of 10 DAE-students and professor B at a sample B of 100 DAE-students."
   ]
  },
  {
   "cell_type": "markdown",
   "metadata": {},
   "source": [
    "**4.1 A student comments on the sample sizes of both professors: \"the standard deviation for A must be larger than for B because sample B contains 10 times as many data points\". Do you agree? Why?**"
   ]
  },
  {
   "cell_type": "markdown",
   "metadata": {},
   "source": [
    "**4.2 The professors find a 90% confidence interval of 6.9-8.3 for the GA1-grades. What can we conclude about the p-value for $\\alpha=0.10$ given the following two hypotheses: $H_0:\\mu=7.1$ and $H_a: \\mu \\neq 7.1?$**"
   ]
  },
  {
   "cell_type": "markdown",
   "metadata": {},
   "source": [
    "---"
   ]
  },
  {
   "cell_type": "markdown",
   "metadata": {},
   "source": [
    "## Part 5 - Binomial Distribution"
   ]
  },
  {
   "cell_type": "markdown",
   "metadata": {},
   "source": [
    "The variance ($\\sigma^2$) and mean ($\\mu$) for a binomial distribution can be computed as follows (where $p$ is the probability and $n$ the number of individuals/trials):   \n",
    "$\\sigma^2  = n\\dot p \\dot(1-p)$  \n",
    "$\\mu  = n\\dot p$"
   ]
  },
  {
   "cell_type": "markdown",
   "metadata": {},
   "source": [
    "**5.1 Derive the formula for the standard deviation (sd) for a binomial distribution and determine for which value of p the sd is largest.**"
   ]
  },
  {
   "cell_type": "markdown",
   "metadata": {},
   "source": [
    "**5.2 Explain in your own words why this value for p makes sense.**  \n",
    "*Note that p stands for the probability of success (something different than the \"p-value\" we often refer to in hypotheses testing)*"
   ]
  },
  {
   "cell_type": "markdown",
   "metadata": {},
   "source": [
    "---"
   ]
  },
  {
   "cell_type": "markdown",
   "metadata": {},
   "source": [
    "## Part 6 - Association Rule Learning "
   ]
  },
  {
   "cell_type": "markdown",
   "metadata": {},
   "source": [
    "Suppose we want to find out common relationships between disease A and B. Two metrics you should consider are support and confidence:"
   ]
  },
  {
   "cell_type": "markdown",
   "metadata": {},
   "source": [
    "$Support = \\frac{\\text{Number of disease } A\\  \\cap\\  B}{\\text{Total number of disease}}$  \n",
    "\n",
    "$Confidence = \\frac{\\text{Number of disease } A\\  \\cap\\  B}{\\text{Number of disease A}}$"
   ]
  },
  {
   "cell_type": "markdown",
   "metadata": {},
   "source": [
    "**6.1 What is the effect of choosing a (too) low support cut-off level in association rule learning?**"
   ]
  },
  {
   "cell_type": "markdown",
   "metadata": {},
   "source": [
    "**6.2 What is the effect of choosing a (too) high confidence cut-off level in association rule learning?**"
   ]
  },
  {
   "cell_type": "markdown",
   "metadata": {},
   "source": [
    "---"
   ]
  },
  {
   "cell_type": "markdown",
   "metadata": {},
   "source": [
    "## Part 7 - Decision Tree Mining\n",
    "Three key metrics you should consider when evaluating the performance of a decision tree are the *accuracy*, *precision* and *recall*: \n",
    "\n",
    "* $Accuracy = \\frac{TP+TN}{TP+TN+FP+FN}$ \n",
    "\n",
    "\n",
    "* $Recall = \\frac{TP}{TP+FN}$  \n",
    "\n",
    "\n",
    "* $Precision = \\frac{TP}{TP+FP}$\n",
    "\n",
    "(TP = True positive, TN = True negative, FP = False positive, FN = False negative)"
   ]
  },
  {
   "cell_type": "markdown",
   "metadata": {},
   "source": [
    "**7.1 A student argues that a high accuracy automatically means you have a high precision. Do you agree? Illustrate with an example.**"
   ]
  },
  {
   "cell_type": "markdown",
   "metadata": {},
   "source": [
    "---"
   ]
  },
  {
   "cell_type": "markdown",
   "metadata": {},
   "source": [
    "## Part 8 - Mean Absolute Error / Root Mean Squared Error "
   ]
  },
  {
   "cell_type": "markdown",
   "metadata": {},
   "source": [
    "**8.1 Two metrics used to measure accuracy for continuous variables are the Mean Absolute Error (MAE) and the Root Mean Squared Error (RMSE).**  \n",
    "*Tip: https://medium.com/human-in-a-machine-world/mae-and-rmse-which-metric-is-better-e60ac3bde13d * "
   ]
  },
  {
   "cell_type": "markdown",
   "metadata": {},
   "source": [
    "---"
   ]
  },
  {
   "cell_type": "markdown",
   "metadata": {},
   "source": [
    "### Last-minute questions? \n",
    "You are more than welcome to make use of our online discussion board on [AllAnswered](https://www.allanswered.com/community/s/data-analytics-for-engineers/). All the best with the final exam!   "
   ]
  }
 ],
 "metadata": {
  "kernelspec": {
   "display_name": "Python 3",
   "language": "python",
   "name": "python3"
  },
  "language_info": {
   "codemirror_mode": {
    "name": "ipython",
    "version": 3
   },
   "file_extension": ".py",
   "mimetype": "text/x-python",
   "name": "python",
   "nbconvert_exporter": "python",
   "pygments_lexer": "ipython3",
   "version": "3.6.0"
  }
 },
 "nbformat": 4,
 "nbformat_minor": 2
}
